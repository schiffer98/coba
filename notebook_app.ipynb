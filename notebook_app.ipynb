{
 "cells": [
  {
   "cell_type": "code",
   "execution_count": 1,
   "metadata": {},
   "outputs": [
    {
     "name": "stdout",
     "output_type": "stream",
     "text": [
      "CPU times: user 1.89 s, sys: 177 ms, total: 2.07 s\n",
      "Wall time: 2.16 s\n"
     ]
    }
   ],
   "source": [
    "%%time\n",
    "from __future__ import division, print_function\n",
    "import os\n",
    "import numpy as np\n",
    "\n",
    "# Tensorflow\n",
    "import tensorflow as tf\n",
    "from tensorflow.keras.models import load_model\n",
    "\n",
    "# load image\n",
    "from PIL import Image\n",
    "from skimage import transform\n",
    "\n",
    "# Flask utils\n",
    "from flask import Flask, request, render_template\n",
    "from werkzeug.utils import secure_filename\n",
    "from werkzeug.wrappers import Request, Response"
   ]
  },
  {
   "cell_type": "code",
   "execution_count": 2,
   "metadata": {},
   "outputs": [
    {
     "name": "stdout",
     "output_type": "stream",
     "text": [
      "Model Succes Load..\n",
      "CPU times: user 11.4 s, sys: 319 ms, total: 11.8 s\n",
      "Wall time: 11.7 s\n"
     ]
    }
   ],
   "source": [
    "%%time\n",
    "# Define a flask app\n",
    "app = Flask(__name__)\n",
    "\n",
    "# Model saved with tensorflow model.save()\n",
    "MODEL_PATH = 'Models/model_best.h5'\n",
    "\n",
    "#Load your trained model\n",
    "model = load_model(MODEL_PATH)\n",
    "\n",
    "#TensorFlow 2.x.x\n",
    "# model._make_predict_function()          # Necessary to make everything ready to run on the GPU ahead of time\n",
    "\n",
    "#Tensorflow 2.2.0\n",
    "model.make_predict_function()\n",
    "\n",
    "print('Model Succes Load..')"
   ]
  },
  {
   "cell_type": "code",
   "execution_count": 3,
   "metadata": {},
   "outputs": [
    {
     "name": "stdout",
     "output_type": "stream",
     "text": [
      "CPU times: user 5 µs, sys: 0 ns, total: 5 µs\n",
      "Wall time: 9.06 µs\n"
     ]
    }
   ],
   "source": [
    "%%time\n",
    "def model_predict(filename, model):\n",
    "   np_image = Image.open(filename)\n",
    "   np_image = np.array(np_image).astype('float32')/255\n",
    "   np_image = transform.resize(np_image, (64, 64,3))\n",
    "   np_image = np.expand_dims(np_image, axis=0)\n",
    "   pred = model.predict(np_image)\n",
    "   return pred"
   ]
  },
  {
   "cell_type": "code",
   "execution_count": 4,
   "metadata": {},
   "outputs": [
    {
     "name": "stdout",
     "output_type": "stream",
     "text": [
      "CPU times: user 1.66 ms, sys: 67 µs, total: 1.73 ms\n",
      "Wall time: 1.74 ms\n"
     ]
    }
   ],
   "source": [
    "%%time\n",
    "@app.route('/', methods=['GET'])\n",
    "def index():\n",
    "    # Main page\n",
    "    return render_template('index.html')"
   ]
  },
  {
   "cell_type": "code",
   "execution_count": 5,
   "metadata": {},
   "outputs": [
    {
     "name": "stdout",
     "output_type": "stream",
     "text": [
      "CPU times: user 2.35 ms, sys: 0 ns, total: 2.35 ms\n",
      "Wall time: 1.98 ms\n"
     ]
    }
   ],
   "source": [
    "%%time\n",
    "@app.route('/predict', methods=['GET', 'POST'])\n",
    "def upload():\n",
    "    if request.method == 'POST':\n",
    "        # Get the file from post request\n",
    "        f = request.files['file']\n",
    "\n",
    "        # Save the file to ./uploads\n",
    "        basepath = os.path.join(os.getcwd())\n",
    "        file_path = os.path.join(\n",
    "            basepath, 'uploads', secure_filename(f.filename))\n",
    "        f.save(file_path)\n",
    "\n",
    "        # Make prediction\n",
    "        pred = model_predict(file_path, model)\n",
    "        os.remove(file_path)#removes file from the server after prediction has been returned\n",
    "\n",
    "        if pred[0] > 0.5:\n",
    "            return \"Not Detect Malaria Cell\"\n",
    "        else:\n",
    "            return \"Detect Malaria Cell\"\n",
    "    return None"
   ]
  },
  {
   "cell_type": "code",
   "execution_count": 6,
   "metadata": {},
   "outputs": [
    {
     "name": "stdout",
     "output_type": "stream",
     "text": [
      "CPU times: user 1.25 ms, sys: 51 µs, total: 1.3 ms\n",
      "Wall time: 1.32 ms\n"
     ]
    }
   ],
   "source": [
    "%%time\n",
    "@app.route('/predict-url', methods=['GET', 'POST'])\n",
    "def predictUrl():\n",
    "    if request.method == 'POST':\n",
    "        url = request.form['url']\n",
    "        try:\n",
    "            if any(ext in url for ext in ['.png','.jpg','.gif','.jpeg','.svg','.tiff']):\n",
    "                #Find The Last Segment Of Url\n",
    "                firstpos = url.rfind(\"/\")\n",
    "                lastpos = len(url)\n",
    "\n",
    "                #Define Folder Path and Filename\n",
    "                folder_path = os.path.join(os.getcwd(), 'uploads')\n",
    "                filename = url[firstpos+1:lastpos]\n",
    "\n",
    "                #Execute Wget\n",
    "                try:\n",
    "                    cmd = \"wget -P \"+folder_path+\" \"+url\n",
    "                    os.system(cmd)\n",
    "\n",
    "                    #Get Saved File\n",
    "                    saved_file = os.path.join(folder_path,filename)\n",
    "\n",
    "                    pred = model_predict(saved_file, model)   #Prediction\n",
    "                    os.remove(saved_file) #removes file from the server after prediction has been returned\n",
    "\n",
    "                    if pred[0] > 0.5:\n",
    "                        return \"Not Detect Malaria Cell\"\n",
    "                    else:\n",
    "                        return \"Detect Malaria Cell\"\n",
    "                except: \n",
    "                    return \"Unknown Error\"\n",
    "\n",
    "            else:\n",
    "                return \"Not A Public Image\"\n",
    "        except:\n",
    "            return \"General Error\"\n",
    "    return None"
   ]
  },
  {
   "cell_type": "code",
   "execution_count": null,
   "metadata": {},
   "outputs": [
    {
     "name": "stdout",
     "output_type": "stream",
     "text": [
      " * Serving Flask app \"__main__\" (lazy loading)\n",
      " * Environment: production\n",
      "\u001b[31m   WARNING: This is a development server. Do not use it in a production deployment.\u001b[0m\n",
      "\u001b[2m   Use a production WSGI server instead.\u001b[0m\n",
      " * Debug mode: off\n"
     ]
    },
    {
     "name": "stderr",
     "output_type": "stream",
     "text": [
      " * Running on http://127.0.0.1:5000/ (Press CTRL+C to quit)\n",
      "127.0.0.1 - - [18/Jun/2020 14:04:56] \"\u001b[37mGET / HTTP/1.1\u001b[0m\" 200 -\n",
      "127.0.0.1 - - [18/Jun/2020 14:04:57] \"\u001b[37mGET /static/css/main.css HTTP/1.1\u001b[0m\" 200 -\n",
      "127.0.0.1 - - [18/Jun/2020 14:04:58] \"\u001b[37mGET /static/js/main.js HTTP/1.1\u001b[0m\" 200 -\n"
     ]
    }
   ],
   "source": [
    "if __name__ == '__main__':\n",
    "        app.run()"
   ]
  },
  {
   "cell_type": "code",
   "execution_count": null,
   "metadata": {},
   "outputs": [],
   "source": []
  }
 ],
 "metadata": {
  "kernelspec": {
   "display_name": "Python 3",
   "language": "python",
   "name": "python3"
  },
  "language_info": {
   "codemirror_mode": {
    "name": "ipython",
    "version": 3
   },
   "file_extension": ".py",
   "mimetype": "text/x-python",
   "name": "python",
   "nbconvert_exporter": "python",
   "pygments_lexer": "ipython3",
   "version": "3.7.7"
  }
 },
 "nbformat": 4,
 "nbformat_minor": 4
}
